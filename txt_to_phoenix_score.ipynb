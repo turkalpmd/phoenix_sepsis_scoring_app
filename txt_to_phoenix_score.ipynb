{
 "cells": [
  {
   "cell_type": "code",
   "execution_count": 3,
   "metadata": {},
   "outputs": [
    {
     "name": "stdout",
     "output_type": "stream",
     "text": [
      "Total token usage for this run: 1075\n",
      "{\n",
      "  \"pid\": 1,\n",
      "  \"age\": 72,\n",
      "  \"fio2\": 0.45,\n",
      "  \"pao2\": null,\n",
      "  \"spo2\": 92,\n",
      "  \"vent\": 1,\n",
      "  \"gcs_total\": 8,\n",
      "  \"pupil\": null,\n",
      "  \"platelets\": 120,\n",
      "  \"inr\": 1.7,\n",
      "  \"d_dimer\": 4.4,\n",
      "  \"fibrinogen\": 120,\n",
      "  \"dbp\": null,\n",
      "  \"sbp\": null,\n",
      "  \"lactate\": 2.9,\n",
      "  \"dobutamine\": 0,\n",
      "  \"dopamine\": 0,\n",
      "  \"epinephrine\": 0,\n",
      "  \"milrinone\": 0,\n",
      "  \"norepinephrine\": 0,\n",
      "  \"vasopressin\": 0,\n",
      "  \"glucose\": null,\n",
      "  \"anc\": null,\n",
      "  \"alc\": null,\n",
      "  \"creatinine\": null,\n",
      "  \"bilirubin\": null,\n",
      "  \"alt\": null\n",
      "}\n",
      "{\n",
      "  \"phoenix_respiratory_score\": 2,\n",
      "  \"phoenix_cardiovascular_score\": 0,\n",
      "  \"phoenix_coagulation_score\": 2,\n",
      "  \"phoenix_neurologic_score\": 1,\n",
      "  \"phoenix_sepsis_score\": 5,\n",
      "  \"phoenix_sepsis\": 1,\n",
      "  \"phoenix_septic_shock\": 0\n",
      "}\n"
     ]
    }
   ],
   "source": [
    "from vignette_LLM import *\n",
    "processor = SepsisCaseProcessor()\n",
    "\n",
    "\n",
    "case_summary = \"\"\"\n",
    "A 6-year-old boy with a history of prematurity presents with respiratory distress. He has an oxygen saturation of 89% on room air. In the emergency department, he is started on non-invasive positive pressure ventilation. His level of consciousness deteriorates rapidly: Glasgow Coma Scale: 2 for eye response + 2 for verbal response + 4 for motor response = 8. He is intubated and placed on a conventional ventilator with an FiO2 of 0.45 to achieve an oxygen saturation of 92%. Complete blood count reveals a platelet count of 120 K/μL. A coagulation panel reveals an INR of 1.7, a D-Dimer of 4.4 mg/L, and a fibrinogen of 120 mg/dL. Serum lactate is 2.9 mmol/L.\n",
    "\"\"\"\n",
    "pid = 1\n",
    "result = processor.process_sepsis_case(case_summary, pid)\n",
    "\n",
    "if result:\n",
    "    print(json.dumps(result, indent=2))\n",
    "    sepsis_df = processor.create_dataframe_from_result(result)\n",
    "    phoenix_scores = processor.calculate_phoenix_scores(sepsis_df)\n",
    "    phoenix_dict_list = phoenix_scores.to_dict(orient='records')\n",
    "    phoenix_dict = phoenix_dict_list[0] if phoenix_dict_list else {}\n",
    "    processor.print_json_output(phoenix_dict)"
   ]
  },
  {
   "cell_type": "code",
   "execution_count": 2,
   "metadata": {},
   "outputs": [
    {
     "name": "stdout",
     "output_type": "stream",
     "text": [
      "Total token usage for this run: 1088\n",
      "{\n",
      "  \"pid\": 1,\n",
      "  \"age\": 36,\n",
      "  \"fio2\": null,\n",
      "  \"pao2\": null,\n",
      "  \"spo2\": null,\n",
      "  \"vent\": 1,\n",
      "  \"gcs_total\": 15,\n",
      "  \"pupil\": null,\n",
      "  \"platelets\": 95,\n",
      "  \"inr\": null,\n",
      "  \"d_dimer\": null,\n",
      "  \"fibrinogen\": null,\n",
      "  \"dbp\": 32,\n",
      "  \"sbp\": 67,\n",
      "  \"lactate\": null,\n",
      "  \"dobutamine\": 0,\n",
      "  \"dopamine\": 0,\n",
      "  \"epinephrine\": 0,\n",
      "  \"milrinone\": 0,\n",
      "  \"norepinephrine\": 1,\n",
      "  \"vasopressin\": 0,\n",
      "  \"glucose\": null,\n",
      "  \"anc\": null,\n",
      "  \"alc\": null,\n",
      "  \"creatinine\": null,\n",
      "  \"bilirubin\": null,\n",
      "  \"alt\": null\n",
      "}\n",
      "{\n",
      "  \"phoenix_respiratory_score\": 0,\n",
      "  \"phoenix_cardiovascular_score\": 2,\n",
      "  \"phoenix_coagulation_score\": 1,\n",
      "  \"phoenix_neurologic_score\": 0,\n",
      "  \"phoenix_sepsis_score\": 3,\n",
      "  \"phoenix_sepsis\": 1,\n",
      "  \"phoenix_septic_shock\": 1\n",
      "}\n"
     ]
    }
   ],
   "source": [
    "case_summary = \"\"\"\n",
    "A previously healthy 3-year-old girl presents to an emergency department in Lima, Peru, with a temperature of 39°C, tachycardia, and irritability. Blood pressure with an oscillometric device is 67/32 mmHg (mean arterial pressure of 43 mmHg). She is given fluid resuscitation per local best practice guidelines, is started on broad spectrum antibiotics, and blood and urine cultures are sent. After an hour, she becomes hypotensive again and she is started on a norepinephrine drip. A complete blood count reveals leukocytosis, mild anemia, and a platelet count of 95 K/μL.\n",
    "\"\"\"\n",
    "pid = 1\n",
    "result = processor.process_sepsis_case(case_summary, pid)\n",
    "\n",
    "if result:\n",
    "    print(json.dumps(result, indent=2))\n",
    "    sepsis_df = processor.create_dataframe_from_result(result)\n",
    "    phoenix_scores = processor.calculate_phoenix_scores(sepsis_df)\n",
    "    phoenix_dict_list = phoenix_scores.to_dict(orient='records')\n",
    "    phoenix_dict = phoenix_dict_list[0] if phoenix_dict_list else {}\n",
    "    processor.print_json_output(phoenix_dict)"
   ]
  }
 ],
 "metadata": {
  "kernelspec": {
   "display_name": "phoenix",
   "language": "python",
   "name": "python3"
  },
  "language_info": {
   "codemirror_mode": {
    "name": "ipython",
    "version": 3
   },
   "file_extension": ".py",
   "mimetype": "text/x-python",
   "name": "python",
   "nbconvert_exporter": "python",
   "pygments_lexer": "ipython3",
   "version": "3.9.19"
  }
 },
 "nbformat": 4,
 "nbformat_minor": 2
}
